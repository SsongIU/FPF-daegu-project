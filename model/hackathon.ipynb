{
 "cells": [
  {
   "cell_type": "markdown",
   "metadata": {},
   "source": [
    "# LSTM MODEL :  미래 유동인구 예측\n",
    "---"
   ]
  },
  {
   "cell_type": "code",
   "execution_count": 2,
   "metadata": {},
   "outputs": [],
   "source": [
    "# 모듈 로딩\n",
    "import numpy as np \n",
    "import pandas as pd \n",
    "import matplotlib.pyplot as plt\n",
    "from keras.models import Sequential\n",
    "from keras.layers import Dense, LSTM, Bidirectional\n",
    "from keras.callbacks import EarlyStopping, ModelCheckpoint\n",
    "from keras import backend as K\n",
    "import numpy as np\n",
    "import matplotlib.pyplot as p\n",
    "\n",
    "\n",
    "import random\n",
    "random.seed(42)\n",
    "\n",
    "import matplotlib as mpl\n",
    "mpl.rc('font',family='Malgun Gothic')"
   ]
  },
  {
   "cell_type": "markdown",
   "metadata": {},
   "source": [
    "## [1] 데이터 전처리\n",
    "---"
   ]
  },
  {
   "cell_type": "markdown",
   "metadata": {},
   "source": [
    "## [2] 모델 생성\n",
    "---\n"
   ]
  },
  {
   "cell_type": "markdown",
   "metadata": {},
   "source": [
    "데이터 과거단위 생성 함수"
   ]
  },
  {
   "cell_type": "code",
   "execution_count": 3,
   "metadata": {},
   "outputs": [],
   "source": [
    "# [ 학습 단위 생성 함수 ]\n",
    "# data = 사용할 데이터\n",
    "# n = 학습할 과거 데이터 수\n",
    "# --> 예측값 개수 : 전체 데이터 갯수 - n (앞쪽데이터 n개가 제외됨)\n",
    "\n",
    "def generateX(data, n): # data, n=5(예시)\n",
    "    x_train = []\n",
    "    y_train = []\n",
    "    for i in range(len(data)): # i = 0~9 \n",
    "        x = data[i:(i + n)] # x : 0~4,1~5,2~6,3~7,4~8,5~9...9~14\n",
    "        if (i + n) < len(data): # target data가 있는 범위까지만\n",
    "            x_train.append(x) # x_train = 0~4,1~5,2~6,3~7,4~8까지\n",
    "            y_train.append(data[i + n]) # y_train = 5,6,7,8,9\n",
    "        else:\n",
    "            break\n",
    "    return np.array(x_train), np.array(y_train)\n",
    "    # x_train 개수: date개수 - n(뒤)\n",
    "    # y_train 개수: date개수 - n(앞)"
   ]
  },
  {
   "cell_type": "code",
   "execution_count": 4,
   "metadata": {},
   "outputs": [],
   "source": [
    "def pred_future(DATA,WINDOW_SIZE,TEST_SIZE):\n",
    "    \n",
    "    print(f'예측 개월 수: {WINDOW_SIZE}개월')\n",
    "    print('--------------------------------')\n",
    "\n",
    "    # [ 과거데이터 학습 단위 설정]\n",
    "    x, y = generateX(DATA, WINDOW_SIZE) \n",
    "\n",
    "    print('[ before reshape ]')\n",
    "    print('x.shape:',x.shape)\n",
    "    print('y.shape:',y.shape)\n",
    "    print('--------------------------------')\n",
    "    \n",
    "    # 차원 하나씩 추가 -----------------------------------------------------\n",
    "    x = x.reshape(-1,WINDOW_SIZE,1)\n",
    "    y = y.reshape(-1,1)\n",
    "\n",
    "    print('[ after reshape ]')\n",
    "    print('x.shape:', x.shape)\n",
    "    print('y.shape:', y.shape)\n",
    "    print('--------------------------------')\n",
    "\n",
    "    # [ 학습 사이즈 ] -> train, test \n",
    "    # train_size = len(DATA)-(2*WINDOW_SIZE)\n",
    "\n",
    "    # 학습용 데이터와 시험용 데이터\n",
    "    x_train = x[:-TEST_SIZE, :, :]\n",
    "    y_train = y[:-TEST_SIZE, :]\n",
    "    x_test = x[TEST_SIZE:, :, :]\n",
    "    y_test = y[TEST_SIZE:, :]\n",
    "\n",
    "    print('x_train.shape:', x_train.shape,'y_train.shape:', y_train.shape)\n",
    "    print('x_test.shape :', x_test.shape, 'y_test.shape :', y_test.shape)\n",
    "    print('--------------------------------')\n",
    "\n",
    "    # 모델 구성 ---------------------------------------------------------------\n",
    "    model = Sequential()\n",
    "    model.add(LSTM(16, \n",
    "                input_shape=(x_train.shape[1], x_train.shape[2]), \n",
    "                activation='relu', \n",
    "                return_sequences=False)\n",
    "            )\n",
    "\n",
    "    model.add(Dense(1))\n",
    "    \n",
    "    # 모델 컴파일 --------------------------------------------------------------\n",
    "    model.compile(loss='mean_squared_error', optimizer='adam')\n",
    "    early_stop = EarlyStopping(monitor='loss', patience=10)\n",
    "\n",
    "    history = model.fit(x_train, y_train, \n",
    "                                    epochs=10, \n",
    "                                    batch_size=16)\n",
    "                                    # callbacks=[early_stop])\n",
    "    \n",
    "    y_hat = model.predict(x_test)\n",
    "\n",
    "    # 예측 결과 시각화 ----------------------------------------------------------\n",
    "    a_axis = np.arange(0, len(y_train))\n",
    "    b_axis = np.arange(len(y_train), len(y_train) + len(y_hat))\n",
    "\n",
    "    plt.figure(figsize=(16,9)) \n",
    "    plt.plot(a_axis, y_train.reshape(x_train.shape[0],), 'o-') \n",
    "    plt.plot(b_axis, y_hat.reshape(x_test.shape[0],), 'o-', color='red', label='Predicted')\n",
    "    plt.plot(b_axis, y_test.reshape(x_test.shape[0],), 'o-', color='green', alpha=0.2, label='Actual')\n",
    "    plt.legend()\n",
    "    plt.show()\n",
    "\n",
    "    return y_hat"
   ]
  },
  {
   "cell_type": "code",
   "execution_count": 5,
   "metadata": {},
   "outputs": [
    {
     "name": "stdout",
     "output_type": "stream",
     "text": [
      "예측 개월 수: 7개월\n",
      "--------------------------------\n",
      "[ before reshape ]\n",
      "x.shape: (8753, 7)\n",
      "y.shape: (8753,)\n",
      "--------------------------------\n",
      "[ after reshape ]\n",
      "x.shape: (8753, 7, 1)\n",
      "y.shape: (8753, 1)\n",
      "--------------------------------\n",
      "x_train.shape: (6253, 7, 1) y_train.shape: (6253, 1)\n",
      "x_test.shape : (6253, 7, 1) y_test.shape : (6253, 1)\n",
      "--------------------------------\n",
      "Epoch 1/10\n",
      "391/391 [==============================] - 2s 2ms/step - loss: 12423369.0000\n",
      "Epoch 2/10\n",
      "391/391 [==============================] - 1s 2ms/step - loss: 13449304.0000\n",
      "Epoch 3/10\n",
      "391/391 [==============================] - 1s 2ms/step - loss: 11553738.0000\n",
      "Epoch 4/10\n",
      "391/391 [==============================] - 1s 2ms/step - loss: 10800374.0000\n",
      "Epoch 5/10\n",
      "391/391 [==============================] - 1s 2ms/step - loss: 10432779.0000\n",
      "Epoch 6/10\n",
      "391/391 [==============================] - 1s 2ms/step - loss: 9791427.0000\n",
      "Epoch 7/10\n",
      "391/391 [==============================] - 1s 2ms/step - loss: 9078592.0000\n",
      "Epoch 8/10\n",
      "391/391 [==============================] - 1s 2ms/step - loss: 8455833.0000\n",
      "Epoch 9/10\n",
      "391/391 [==============================] - 1s 2ms/step - loss: 8154107.5000\n",
      "Epoch 10/10\n",
      "391/391 [==============================] - 1s 2ms/step - loss: 7374194.0000\n",
      "196/196 [==============================] - 0s 841us/step\n"
     ]
    },
    {
     "ename": "",
     "evalue": "",
     "output_type": "error",
     "traceback": [
      "\u001b[1;31mCanceled future for execute_request message before replies were done"
     ]
    },
    {
     "ename": "",
     "evalue": "",
     "output_type": "error",
     "traceback": [
      "\u001b[1;31m현재 셀 또는 이전 셀에서 코드를 실행하는 동안 Kernel이 충돌했습니다. 셀의 코드를 검토하여 오류의 가능한 원인을 식별하세요. 자세한 내용을 보려면 <a href='https://aka.ms/vscodeJupyterKernelCrash'> 여기 </a> 를 클릭하세요. 자세한 내용은 Jupyter <a href='command:jupyter.viewOutput'>로그</a>를 참조하세요."
     ]
    }
   ],
   "source": [
    "# 미래 예측 함수 테스트(sin 그래프)\n",
    "\n",
    "# [ 조정 변수]\n",
    "\n",
    "# 총 데이터\n",
    "# DATA = np.sin(2 * np.pi * 0.03 * np.arange(0, 300)) + np.random.random(300) # Sine 함수에 노이즈를 섞은 데이터로 학습 데이터 100개를 생성한다\n",
    "df = pd.read_csv(\"../data/data.csv\")\n",
    "DATA = df[\"values\"]\n",
    "\n",
    "# 과거 학습 단위 = 예측하게 되는 타겟 갯수\n",
    "WINDOW_SIZE = 7\n",
    "\n",
    "# 테스트 사이즈 설정\n",
    "TEST_SIZE = 2500\n",
    "\n",
    "# past_learn: 과거 학습할 데이터 단위 \n",
    "pred = pred_future(DATA,WINDOW_SIZE,TEST_SIZE)"
   ]
  },
  {
   "cell_type": "code",
   "execution_count": null,
   "metadata": {},
   "outputs": [],
   "source": []
  },
  {
   "cell_type": "code",
   "execution_count": null,
   "metadata": {},
   "outputs": [],
   "source": []
  }
 ],
 "metadata": {
  "kernelspec": {
   "display_name": "Python 3.9.13 ('streamlit')",
   "language": "python",
   "name": "python3"
  },
  "language_info": {
   "codemirror_mode": {
    "name": "ipython",
    "version": 3
   },
   "file_extension": ".py",
   "mimetype": "text/x-python",
   "name": "python",
   "nbconvert_exporter": "python",
   "pygments_lexer": "ipython3",
   "version": "3.9.13"
  },
  "orig_nbformat": 4,
  "vscode": {
   "interpreter": {
    "hash": "daff023456bfc43899f59e3c1af65b6fc38a88e55f3cffe90fe5d644bd318f9f"
   }
  }
 },
 "nbformat": 4,
 "nbformat_minor": 2
}
